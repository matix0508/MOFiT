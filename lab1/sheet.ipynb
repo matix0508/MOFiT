{
 "cells": [
  {
   "cell_type": "code",
   "execution_count": 118,
   "metadata": {},
   "outputs": [],
   "source": [
    "import numpy as np\n",
    "import matplotlib.pyplot as plt\n",
    "from matplotlib.axes import Axes\n",
    "from typing import Union, List\n",
    "import os"
   ]
  },
  {
   "cell_type": "markdown",
   "metadata": {},
   "source": [
    "## Constants"
   ]
  },
  {
   "cell_type": "code",
   "execution_count": 119,
   "metadata": {},
   "outputs": [],
   "source": [
    "M = 1 # kg\n",
    "x0 = 2.8 # m\n",
    "v0 = 0 # m/s\n",
    "dt = 0.01\n",
    "alpha = 0"
   ]
  },
  {
   "cell_type": "markdown",
   "metadata": {},
   "source": [
    "## Helper Functions"
   ]
  },
  {
   "cell_type": "code",
   "execution_count": 120,
   "metadata": {},
   "outputs": [],
   "source": [
    "def V(x: Union[float, np.ndarray]) -> Union[float, np.ndarray]:\n",
    "    \"\"\"\n",
    "    Custom Potential Energy dependent on position\n",
    "    \"\"\"\n",
    "    return -np.exp(-x**2)-1.2*np.exp(-(x-2)**2)  # J"
   ]
  },
  {
   "cell_type": "code",
   "execution_count": 121,
   "metadata": {},
   "outputs": [],
   "source": [
    "def derivative(func, x0: float, n: int = 1) -> float:\n",
    "    \"\"\"\n",
    "    Computes derivative of a function f where x=x0, using recurrency\n",
    "    \"\"\"\n",
    "    dx = 1e-6\n",
    "    if n == 1:\n",
    "        dy = func(x0+dx) - func(x0)\n",
    "        return dy/dx\n",
    "    if n > 1:\n",
    "        dy = derivative(func, x0 + dx, n-1) - derivative(func, x0, n-1)\n",
    "        return dy / dx"
   ]
  },
  {
   "cell_type": "code",
   "execution_count": 122,
   "metadata": {},
   "outputs": [],
   "source": [
    "def create_dir(path: str):\n",
    "    \"\"\"\n",
    "    Creates directory if it doesn't exist already\n",
    "    \"\"\"\n",
    "    if not os.path.exists(path):\n",
    "        print(f\"[INFO]::Creating a directory: {path}\")\n",
    "        os.makedirs(path)\n",
    "        print(f\"[SUCCESS]::directory creation completed!\")"
   ]
  },
  {
   "cell_type": "code",
   "execution_count": 123,
   "metadata": {},
   "outputs": [],
   "source": [
    "class PlotValue:\n",
    "    def __init__(self, x: np.ndarray, y: np.ndarray, label: str = \"\"):\n",
    "        self.x = x\n",
    "        self.y = y\n",
    "        self.label = label"
   ]
  },
  {
   "cell_type": "markdown",
   "metadata": {},
   "source": [
    "## Plotter"
   ]
  },
  {
   "cell_type": "code",
   "execution_count": 145,
   "metadata": {},
   "outputs": [],
   "source": [
    "class Plotter:\n",
    "    def __init__(self, x: np.ndarray, v: np.ndarray, t: np.ndarray, dir: str):\n",
    "        self.x = x\n",
    "        self.v = v\n",
    "        self.t = t\n",
    "        self.dir = dir\n",
    "\n",
    "    def get_KE(self) -> np.ndarray:\n",
    "        return 0.5 * M * self.v ** 2\n",
    "\n",
    "    def get_V(self):\n",
    "        return V(self.x)\n",
    "\n",
    "    def get_TE(self):\n",
    "        return self.get_KE() + self.get_V()\n",
    "\n",
    "    def plot(self):\n",
    "        fig, axes = plt.subplots(3, 1, sharex=True)\n",
    "        values = [\n",
    "            PlotValue(self.t, self.x, \"Position\"),\n",
    "            PlotValue(self.t, self.v, \"Velocity\"),\n",
    "            PlotValue(self.t, self.get_KE(), \"Kinetic Energy\"),\n",
    "            PlotValue(self.t, self.get_V(), \"Potential Energy\"),\n",
    "            PlotValue(self.t, self.get_TE(), \"Total Energy\"),\n",
    "        ]\n",
    "        for ax, v in zip(axes[:2], values[:2]):\n",
    "            ax.plot(v.x, v.y)\n",
    "            ax.set_title(v.label)\n",
    "        ax3 = axes[2]\n",
    "        ax3.set_title(\"Energy\")\n",
    "        for v in values[2:]:\n",
    "            ax3.plot(v.x, v.y, label = v.label)\n",
    "            ax3.legend()\n",
    "        \n",
    "        fig.tight_layout()\n",
    "    \n",
    "        create_dir(self.dir)\n",
    "\n",
    "        fig.savefig(f\"{self.dir}/funcT.png\")\n",
    "\n",
    "        plt.plot(self.x, self.v)\n",
    "        plt.title(\"v(x)\")\n",
    "        plt.savefig(f\"{self.dir}/phase.png\")\n"
   ]
  },
  {
   "cell_type": "markdown",
   "metadata": {},
   "source": [
    "## Solver"
   ]
  },
  {
   "cell_type": "code",
   "execution_count": 146,
   "metadata": {},
   "outputs": [],
   "source": [
    "class Solver:\n",
    "    def __init__(self, tmax: int, dt: float, alpha: float, mass: float):\n",
    "        num = int(tmax//dt)\n",
    "        self.x = np.zeros(num)\n",
    "        self.v = np.zeros(num)\n",
    "        self.t = np.linspace(0, tmax, num=num)\n",
    "        self.alpha = alpha\n",
    "        self.mass = mass\n",
    "        self.dt = dt\n",
    "\n",
    "    def set_new_values(self, x: float, v: float, i):\n",
    "        self.x[i] = x\n",
    "        self.v[i] = v\n"
   ]
  },
  {
   "cell_type": "markdown",
   "metadata": {},
   "source": [
    "## Euler Solver"
   ]
  },
  {
   "cell_type": "code",
   "execution_count": 147,
   "metadata": {},
   "outputs": [],
   "source": [
    "class Euler(Solver):\n",
    "    def __init__(self, tmax: int, dt: float, alpha: float, mass: float = M):\n",
    "        super().__init__(tmax, dt, alpha, mass)\n",
    "\n",
    "\n",
    "    def get_next_step(self, i: int):\n",
    "        new_x = self.x[i] + self.v[i] * self.dt\n",
    "        new_y = self.v[i] - 1 / self.mass * derivative(V, self.x[i]) * self.dt - self.alpha * self.v[i] * self.dt\n",
    "        return new_x, new_y\n",
    "\n",
    "\n",
    "    \n",
    "    def calculate(self):\n",
    "        for i in range(len(self.t)):\n",
    "            if i == 0:\n",
    "                self.set_new_values(x0, v0, 0)\n",
    "                continue\n",
    "            x, y = self.get_next_step(i-1)\n",
    "            self.set_new_values(x, y, i)"
   ]
  },
  {
   "cell_type": "markdown",
   "metadata": {},
   "source": [
    "## Trapezoid Solver"
   ]
  },
  {
   "cell_type": "code",
   "execution_count": 148,
   "metadata": {},
   "outputs": [],
   "source": [
    "class Trapezoid(Solver):\n",
    "    def __init__(self, tmax: int, dt: float, alpha: float, mass: float = M):\n",
    "        super().__init__(tmax, dt, alpha, mass)\n",
    "\n",
    "    def get_next_step(self):\n",
    "        pass\n",
    "\n",
    "    def calculate(self):\n",
    "        pass"
   ]
  },
  {
   "cell_type": "markdown",
   "metadata": {},
   "source": [
    "## Handler"
   ]
  },
  {
   "cell_type": "code",
   "execution_count": 142,
   "metadata": {},
   "outputs": [],
   "source": [
    "class Handler:\n",
    "    def __init__(self):\n",
    "        pass\n",
    "\n",
    "    def run(self):\n",
    "        es = Euler(30, 0.001, 0)\n",
    "        es.calculate()\n",
    "        mplt = Plotter(es.x, es.v, es.t, \"images/ex1\")\n",
    "        mplt.plot()\n"
   ]
  },
  {
   "cell_type": "code",
   "execution_count": 143,
   "metadata": {},
   "outputs": [],
   "source": [
    "h = Handler()"
   ]
  },
  {
   "cell_type": "code",
   "execution_count": 144,
   "metadata": {},
   "outputs": [
    {
     "data": {
      "image/png": "[encoded data removed]",
      "text/plain": [
       "<Figure size 432x288 with 3 Axes>"
      ]
     },
     "metadata": {
      "needs_background": "light"
     },
     "output_type": "display_data"
    }
   ],
   "source": [
    "h.run()"
   ]
  },
  {
   "cell_type": "code",
   "execution_count": null,
   "metadata": {},
   "outputs": [],
   "source": []
  }
 ],
 "metadata": {
  "interpreter": {
   "hash": "31f2aee4e71d21fbe5cf8b01ff0e069b9275f58929596ceb00d14d90e3e16cd6"
  },
  "kernelspec": {
   "display_name": "Python 3.8.10 64-bit",
   "language": "python",
   "name": "python3"
  },
  "language_info": {
   "codemirror_mode": {
    "name": "ipython",
    "version": 3
   },
   "file_extension": ".py",
   "mimetype": "text/x-python",
   "name": "python",
   "nbconvert_exporter": "python",
   "pygments_lexer": "ipython3",
   "version": "3.8.10"
  },
  "orig_nbformat": 4
 },
 "nbformat": 4,
 "nbformat_minor": 2
}
