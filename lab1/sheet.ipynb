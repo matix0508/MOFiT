{
 "cells": [
  {
   "cell_type": "code",
   "execution_count": 5,
   "metadata": {},
   "outputs": [],
   "source": [
    "import numpy as np\n",
    "import matplotlib.pyplot as plt\n",
    "from typing import Union, List"
   ]
  },
  {
   "cell_type": "markdown",
   "metadata": {},
   "source": [
    "## Constants"
   ]
  },
  {
   "cell_type": "code",
   "execution_count": 12,
   "metadata": {},
   "outputs": [],
   "source": [
    "M = 1 # kg\n",
    "x0 = 2.8 # m\n",
    "v0 = 0 # m/s\n",
    "dt = 0.1\n",
    "alpha = 0"
   ]
  },
  {
   "cell_type": "markdown",
   "metadata": {},
   "source": [
    "## Helper Functions"
   ]
  },
  {
   "cell_type": "code",
   "execution_count": 13,
   "metadata": {},
   "outputs": [],
   "source": [
    "def V(x: Union[np.ndarray, float]) -> Union[np.ndarray, float]:\n",
    "    \"\"\"\n",
    "    Custom Potential Energy dependent on position\n",
    "    \"\"\"\n",
    "    return -np.exp(-x**2)-1.2*np.exp(-(x-2)**2)  # J"
   ]
  },
  {
   "cell_type": "code",
   "execution_count": 14,
   "metadata": {},
   "outputs": [],
   "source": [
    "def derivative(func, x0: float, n: int = 1) -> float:\n",
    "    \"\"\"\n",
    "    Computes derivative of a function f where x=x0\n",
    "    \"\"\"\n",
    "    dx = 1e-6\n",
    "    if n == 1:\n",
    "        # computes first derivative\n",
    "        dy = func(x0+dx) - func(x0)\n",
    "        return dy/dx\n",
    "    if n > 1:\n",
    "        # reduces higher derivatives to lower ones\n",
    "        dy = derivative(func, x0 + dx, n-1) - derivative(func, x0, n-1)\n",
    "        return dy / dx"
   ]
  },
  {
   "cell_type": "code",
   "execution_count": 15,
   "metadata": {},
   "outputs": [],
   "source": [
    "def get_next_euler(x: float, v: float, dt: float) -> float:\n",
    "    new_x = x + v * dt\n",
    "    new_y = v - 1 / M * derivative(V, x) * dt - alpha * v * dt\n",
    "    return new_x, new_y"
   ]
  },
  {
   "cell_type": "code",
   "execution_count": 16,
   "metadata": {},
   "outputs": [],
   "source": [
    "def calculate_euler(t_range: int):\n",
    "    t = np.linspace(0, t_range, t_range / dt)\n",
    "    x = t.copy()\n",
    "    v = t.copy()\n",
    "    for i in range()\n",
    "    "
   ]
  },
  {
   "cell_type": "code",
   "execution_count": null,
   "metadata": {},
   "outputs": [],
   "source": []
  }
 ],
 "metadata": {
  "interpreter": {
   "hash": "31f2aee4e71d21fbe5cf8b01ff0e069b9275f58929596ceb00d14d90e3e16cd6"
  },
  "kernelspec": {
   "display_name": "Python 3.8.10 64-bit",
   "language": "python",
   "name": "python3"
  },
  "language_info": {
   "codemirror_mode": {
    "name": "ipython",
    "version": 3
   },
   "file_extension": ".py",
   "mimetype": "text/x-python",
   "name": "python",
   "nbconvert_exporter": "python",
   "pygments_lexer": "ipython3",
   "version": "3.8.10"
  },
  "orig_nbformat": 4
 },
 "nbformat": 4,
 "nbformat_minor": 2
}
