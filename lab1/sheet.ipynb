{
 "cells": [
  {
   "cell_type": "code",
   "execution_count": 147,
   "metadata": {},
   "outputs": [],
   "source": [
    "import numpy as np\n",
    "import matplotlib.pyplot as plt\n",
    "from matplotlib.axes import Axes\n",
    "from typing import Union, List, Tuple\n",
    "import os"
   ]
  },
  {
   "cell_type": "markdown",
   "metadata": {},
   "source": [
    "## Constants"
   ]
  },
  {
   "cell_type": "code",
   "execution_count": 148,
   "metadata": {},
   "outputs": [],
   "source": [
    "M = 1 # kg\n",
    "x0 = 2.8 # m\n",
    "v0 = 0 # m/s\n",
    "dt = 0.01\n",
    "alpha = 0"
   ]
  },
  {
   "cell_type": "markdown",
   "metadata": {},
   "source": [
    "## Helper Functions"
   ]
  },
  {
   "cell_type": "code",
   "execution_count": 149,
   "metadata": {},
   "outputs": [],
   "source": [
    "def V(x: Union[float, np.ndarray]) -> Union[float, np.ndarray]:\n",
    "    \"\"\"\n",
    "    Custom Potential Energy dependent on position\n",
    "    \"\"\"\n",
    "    return -np.exp(-x**2)-1.2*np.exp(-(x-2)**2)  # J"
   ]
  },
  {
   "cell_type": "code",
   "execution_count": 150,
   "metadata": {},
   "outputs": [],
   "source": [
    "def derivative(func, x0: float, n: int = 1) -> float:\n",
    "    \"\"\"\n",
    "    Computes derivative of a function f where x=x0, using recursion\n",
    "    \"\"\"\n",
    "    dx = 1e-6\n",
    "    if n == 1:\n",
    "        dy = func(x0+dx) - func(x0)\n",
    "        return dy/dx\n",
    "    if n > 1:\n",
    "        dy = derivative(func, x0 + dx, n-1) - derivative(func, x0, n-1)\n",
    "        return dy / dx"
   ]
  },
  {
   "cell_type": "code",
   "execution_count": 151,
   "metadata": {},
   "outputs": [],
   "source": [
    "def create_dir(path: str):\n",
    "    \"\"\"\n",
    "    Creates directory if it doesn't exist already\n",
    "    \"\"\"\n",
    "    if not os.path.exists(path):\n",
    "        print(f\"[INFO]::Creating a directory: {path}\")\n",
    "        os.makedirs(path)\n",
    "        print(f\"[SUCCESS]::directory creation completed!\")"
   ]
  },
  {
   "cell_type": "code",
   "execution_count": 152,
   "metadata": {},
   "outputs": [],
   "source": [
    "class PlotValue:\n",
    "    def __init__(self, x: np.ndarray, y: np.ndarray, label: str = \"\"):\n",
    "        self.x = x\n",
    "        self.y = y\n",
    "        self.label = label"
   ]
  },
  {
   "cell_type": "markdown",
   "metadata": {},
   "source": [
    "## Solver"
   ]
  },
  {
   "cell_type": "code",
   "execution_count": 153,
   "metadata": {},
   "outputs": [],
   "source": [
    "\n",
    "class Solver:\n",
    "    def __init__(self, tmax: int, dt: float, alpha: float, mass: float):\n",
    "        self.x = None\n",
    "        self.v = None\n",
    "        self.t = None\n",
    "        self.alpha = None\n",
    "        self.mass = None\n",
    "        self.dt = None\n",
    "        self.update_params(tmax, dt, alpha, mass)\n",
    "\n",
    "    def update_params(self, tmax: int, dt: float, alpha: float, mass: float = M):\n",
    "        num = int(tmax//dt)\n",
    "        self.x = np.zeros(num)\n",
    "        self.v = np.zeros(num)\n",
    "        self.t = np.linspace(0, tmax, num=num)\n",
    "        self.alpha = alpha\n",
    "        self.mass = mass\n",
    "        self.dt = dt\n",
    "\n",
    "    def set_new_values(self, x: float, v: float, i):\n",
    "        self.x[i] = x\n",
    "        self.v[i] = v\n",
    "\n",
    "    def get_new_values(self, i: int):\n",
    "        return self.x[i], self.y[i]\n",
    "\n"
   ]
  },
  {
   "cell_type": "markdown",
   "metadata": {},
   "source": [
    "## Euler Solver"
   ]
  },
  {
   "cell_type": "code",
   "execution_count": 154,
   "metadata": {},
   "outputs": [],
   "source": [
    "class Euler(Solver):\n",
    "    def __init__(self, tmax: int, dt: float, alpha: float, mass: float = M):\n",
    "        super().__init__(tmax, dt, alpha, mass)\n",
    "\n",
    "    def get_next_step(self, i: int):\n",
    "        new_x = self.x[i] + self.v[i] * self.dt\n",
    "        new_y = self.v[i] - 1 / self.mass * derivative(V, self.x[i]) * self.dt - self.alpha * self.v[i] * self.dt\n",
    "        return new_x, new_y\n",
    "    \n",
    "    def calculate(self, save=False):\n",
    "        for i in range(len(self.t)):\n",
    "            if i == 0:\n",
    "                self.set_new_values(x0, v0, 0)\n",
    "                continue\n",
    "            \n",
    "            x, v = self.get_next_step(i-1)\n",
    "            self.set_new_values(x, v, i)"
   ]
  },
  {
   "cell_type": "markdown",
   "metadata": {},
   "source": [
    "## Trapezoid Solver"
   ]
  },
  {
   "cell_type": "code",
   "execution_count": 155,
   "metadata": {},
   "outputs": [],
   "source": [
    "class Trapezoid(Solver):\n",
    "    def __init__(self, tmax: int, dt: float, alpha: float, mass: float = M):\n",
    "        super().__init__(tmax, dt, alpha, mass)\n",
    "\n",
    "    def f1(self, xnext: float, vnext: float, i: int) -> float:\n",
    "        return xnext - self.x[i] -vnext*self.dt/2 - self.v[i]*dt/2\n",
    "\n",
    "    def f2(self, xnext: float, vnext: float, i: int) -> float:\n",
    "        return vnext - self.v[i] - (-1/self.mass*derivative(V, xnext)-alpha*vnext)*self.dt/2 - (-1/self.mass*derivative(V, self.x[i])-alpha*self.v[i])*dt/2\n",
    "\n",
    "    def get_b(self, xnext, vnext, i: int):\n",
    "        return -np.array([self.f1(xnext, vnext, i), self.f2(xnext, vnext, i)])\n",
    "\n",
    "    def get_A(self, xnext: float) -> np.ndarray:\n",
    "        A = np.array([\n",
    "            [1, -self.dt / 2],\n",
    "            [self.dt / (2 * self.mass) * derivative(V, xnext, 2),\n",
    "             1 + self.dt / 2 * self.alpha],\n",
    "        ])\n",
    "        return A\n",
    "\n",
    "    def get_next_step(self, i: int, save: bool) -> Tuple[float, float]:\n",
    "        \n",
    "        eps = 1e-3\n",
    "        X = np.array([1.0, 1.0])  # x_mu, v_mu\n",
    "\n",
    "        b = self.get_b(X[0], X[1], i-1)\n",
    "        if save:\n",
    "            output = f\"Initial x_mu+1-x_mu: {X[0]}, v_mu+1-v_mu: {X[1]}\\n\"\n",
    "            output += f\"Initial F vector: ({b[0]}, {b[1]})\\n\"\n",
    "        \n",
    "        \n",
    "        while abs(b[0]) > eps or abs(b[1]) > eps:\n",
    "            if save:\n",
    "                output += \"F is non zero so, solving the system of equations\\n\"\n",
    "\n",
    "            solve_x = np.linalg.solve(self.get_A(X[0]\n",
    "            ), b)\n",
    "            X += solve_x\n",
    "            b = self.get_b(X[0], X[1], i-1)\n",
    "            if save:\n",
    "                output += f\"X vector after iteration: ({X[0]}, {X[1]})\\n\"\n",
    "                output += f\"F vector after iteration: ({b[0]}, {b[1]})\\n\"\n",
    "        if save:\n",
    "            output += f\"Final outcome: X vector: ({X[0]}, {X[1]})\\n\"\n",
    "            with open(\"zbieznosc\", \"w\") as f:\n",
    "                f.write(output)\n",
    "        \n",
    "        return X[0], X[1]\n",
    "    \n",
    "    def calculate(self, save: bool = False):\n",
    "        for i in range(len(self.t)):\n",
    "            if i == 0:\n",
    "                self.set_new_values(x0, v0, 0)\n",
    "                continue\n",
    "\n",
    "            \n",
    "            x, v = self.get_next_step(i, save=i==1 and save)\n",
    "            self.set_new_values(x, v, i)\n",
    "\n",
    "\n"
   ]
  },
  {
   "cell_type": "markdown",
   "metadata": {},
   "source": [
    "## Plotter"
   ]
  },
  {
   "cell_type": "code",
   "execution_count": 156,
   "metadata": {},
   "outputs": [],
   "source": [
    "class Plotter:\n",
    "    def __init__(self, solver: Union[Euler, Trapezoid], dir: str):\n",
    "        self.solver = solver\n",
    "        self.dir = dir\n",
    "\n",
    "    def get_KE(self) -> np.ndarray:\n",
    "        return 0.5 * M * self.solver.v ** 2\n",
    "\n",
    "    def get_V(self):\n",
    "        return V(self.solver.x)\n",
    "\n",
    "    def get_TE(self):\n",
    "        return self.get_KE() + self.get_V()\n",
    "\n",
    "    def plot_values(self, filename: str = \"funcT\"):\n",
    "        fig, axes = plt.subplots(3, 1, sharex=True)\n",
    "        values = [\n",
    "            PlotValue(self.solver.t, self.solver.x, \"Position\"),\n",
    "            PlotValue(self.solver.t, self.solver.v, \"Velocity\"),\n",
    "            PlotValue(self.solver.t, self.get_KE(), \"Kinetic Energy\"),\n",
    "            PlotValue(self.solver.t, self.get_V(), \"Potential Energy\"),\n",
    "            PlotValue(self.solver.t, self.get_TE(), \"Total Energy\"),\n",
    "        ]\n",
    "        for ax, v in zip(axes[:2], values[:2]):\n",
    "            ax.plot(v.x, v.y)\n",
    "            ax.set_title(v.label)\n",
    "        ax3 = axes[2]\n",
    "        ax3.set_title(\"Energy\")\n",
    "        for v in values[2:]:\n",
    "            ax3.plot(v.x, v.y, label = v.label)\n",
    "            ax3.legend()\n",
    "        \n",
    "        fig.tight_layout()\n",
    "    \n",
    "        create_dir(self.dir)\n",
    "\n",
    "\n",
    "        fig.savefig(f\"{self.dir}/{filename}.png\")\n",
    "        plt.close()\n",
    "\n",
    "    def plot_phase(self, filename: str = \"phase\"):\n",
    "\n",
    "        fig, ax = plt.subplots(1, 1)\n",
    "        ax.plot(self.solver.x, self.solver.v)\n",
    "        ax.set_title(\"v(x)\")\n",
    "        \n",
    "\n",
    "        fig.savefig(f\"{self.dir}/{filename}.png\")\n",
    "        plt.close()\n",
    "\n"
   ]
  },
  {
   "cell_type": "markdown",
   "metadata": {},
   "source": [
    "## Handler"
   ]
  },
  {
   "cell_type": "code",
   "execution_count": 157,
   "metadata": {},
   "outputs": [],
   "source": [
    "class Handler:\n",
    "    def __init__(self):\n",
    "        self.dir: str = \"images\"\n",
    "\n",
    "    def exercise(self, S: type, dt: float, alpha: float, dir: os.path, save: bool = False):\n",
    "        tmax = 30\n",
    "        solver: Union[Euler, Trapezoid] = S(tmax, dt, alpha)\n",
    "        solver.calculate(save=save)\n",
    "        mplt = Plotter(solver, os.path.join(self.dir, dir))\n",
    "        mplt.plot_values()\n",
    "        for tmax in [100, 1000]:\n",
    "            solver.update_params(tmax, dt, alpha)\n",
    "            solver.calculate()\n",
    "            mplt.plot_phase(f\"phase{tmax}dt{dt}\")\n",
    "\n",
    "    def exercise1(self, method: type = Euler, dir: str = \"euler\"):\n",
    "\n",
    "        dt_arr = [0.01, 0.001]\n",
    "        for dt in dt_arr:\n",
    "            \n",
    "            self.exercise(method, dt, 0, os.path.join(dir, \"ex1\", f\"dt{dt}\"), save=dir==\"trapezoid\" and dt==0.01)\n",
    "\n",
    "    def exercise2(self, method: type = Euler, dir: str = \"euler\"):\n",
    "        dt = 0.01\n",
    "        alphas = [0.5, 5, 201]\n",
    "        for alpha in alphas:\n",
    "            self.exercise(method, dt, alpha, os.path.join(dir, \"ex2\", f\"alpha{alpha}\"))\n",
    "\n",
    "    def exercises(self, trapezoid: bool = False):\n",
    "        if trapezoid:\n",
    "            self.exercise1(Trapezoid, \"trapezoid\")\n",
    "            self.exercise2(Trapezoid, \"trapezoid\")\n",
    "        else:\n",
    "            self.exercise1()\n",
    "            self.exercise2()\n",
    "\n",
    "\n",
    "    def run(self):\n",
    "        self.exercises()\n",
    "        self.exercises(trapezoid=True)\n"
   ]
  },
  {
   "cell_type": "code",
   "execution_count": 158,
   "metadata": {},
   "outputs": [],
   "source": [
    "h = Handler()"
   ]
  },
  {
   "cell_type": "code",
   "execution_count": 159,
   "metadata": {},
   "outputs": [
    {
     "name": "stdout",
     "output_type": "stream",
     "text": [
      "[INFO]::Creating a directory: images/euler/ex1/dt0.01\n",
      "[SUCCESS]::directory creation completed!\n",
      "[INFO]::Creating a directory: images/euler/ex1/dt0.001\n",
      "[SUCCESS]::directory creation completed!\n",
      "[INFO]::Creating a directory: images/euler/ex2/alpha0.5\n",
      "[SUCCESS]::directory creation completed!\n",
      "[INFO]::Creating a directory: images/euler/ex2/alpha5\n",
      "[SUCCESS]::directory creation completed!\n",
      "[INFO]::Creating a directory: images/euler/ex2/alpha201\n",
      "[SUCCESS]::directory creation completed!\n"
     ]
    },
    {
     "name": "stderr",
     "output_type": "stream",
     "text": [
      "/tmp/ipykernel_8637/3079194069.py:5: RuntimeWarning: overflow encountered in double_scalars\n",
      "  return -np.exp(-x**2)-1.2*np.exp(-(x-2)**2)  # J\n",
      "/tmp/ipykernel_8637/1213483449.py:7: RuntimeWarning: overflow encountered in double_scalars\n",
      "  new_y = self.v[i] - 1 / self.mass * derivative(V, self.x[i]) * self.dt - self.alpha * self.v[i] * self.dt\n",
      "/tmp/ipykernel_8637/1213483449.py:7: RuntimeWarning: invalid value encountered in double_scalars\n",
      "  new_y = self.v[i] - 1 / self.mass * derivative(V, self.x[i]) * self.dt - self.alpha * self.v[i] * self.dt\n"
     ]
    },
    {
     "name": "stdout",
     "output_type": "stream",
     "text": [
      "[INFO]::Creating a directory: images/trapezoid/ex1/dt0.01\n",
      "[SUCCESS]::directory creation completed!\n",
      "[INFO]::Creating a directory: images/trapezoid/ex1/dt0.001\n",
      "[SUCCESS]::directory creation completed!\n",
      "[INFO]::Creating a directory: images/trapezoid/ex2/alpha0.5\n",
      "[SUCCESS]::directory creation completed!\n",
      "[INFO]::Creating a directory: images/trapezoid/ex2/alpha5\n",
      "[SUCCESS]::directory creation completed!\n",
      "[INFO]::Creating a directory: images/trapezoid/ex2/alpha201\n",
      "[SUCCESS]::directory creation completed!\n"
     ]
    }
   ],
   "source": [
    "h.run()"
   ]
  },
  {
   "cell_type": "code",
   "execution_count": null,
   "metadata": {},
   "outputs": [],
   "source": []
  },
  {
   "cell_type": "code",
   "execution_count": null,
   "metadata": {},
   "outputs": [],
   "source": []
  }
 ],
 "metadata": {
  "interpreter": {
   "hash": "31f2aee4e71d21fbe5cf8b01ff0e069b9275f58929596ceb00d14d90e3e16cd6"
  },
  "kernelspec": {
   "display_name": "Python 3.8.10 64-bit",
   "language": "python",
   "name": "python3"
  },
  "language_info": {
   "codemirror_mode": {
    "name": "ipython",
    "version": 3
   },
   "file_extension": ".py",
   "mimetype": "text/x-python",
   "name": "python",
   "nbconvert_exporter": "python",
   "pygments_lexer": "ipython3",
   "version": "3.8.10"
  },
  "orig_nbformat": 4
 },
 "nbformat": 4,
 "nbformat_minor": 2
}
