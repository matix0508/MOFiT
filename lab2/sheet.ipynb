{
 "cells": [
  {
   "cell_type": "code",
   "execution_count": 2,
   "metadata": {},
   "outputs": [],
   "source": [
    "import numpy as np\n",
    "import matplotlib.pyplot as plt\n",
    "from typing import Union\n",
    "import os"
   ]
  },
  {
   "cell_type": "code",
   "execution_count": 3,
   "metadata": {},
   "outputs": [],
   "source": [
    "M = 1.989e30 #kg\n",
    "G = 6.6741e-11 # m^3/kg/s^2\n",
    "AU = 149597870700 #m"
   ]
  },
  {
   "cell_type": "code",
   "execution_count": 4,
   "metadata": {},
   "outputs": [],
   "source": [
    "x0 = np.array([0, 0.586]) * AU # m\n",
    "v0 = np.array([54600, 0]) # m/s\n"
   ]
  },
  {
   "cell_type": "code",
   "execution_count": 5,
   "metadata": {},
   "outputs": [],
   "source": [
    "def a(r: np.ndarray):\n",
    "    return -G * M * r / np.power(np.sqrt(r[0] ** 2 + r[1] ** 2), 3)\n",
    "    "
   ]
  },
  {
   "cell_type": "code",
   "execution_count": 6,
   "metadata": {},
   "outputs": [],
   "source": [
    "class Euler:\n",
    "    def __init__(self, tmax: int, dt: float):\n",
    "        self.x = None\n",
    "        self.v = None\n",
    "        self.t = None\n",
    "        self.dt = None\n",
    "        self.update_params(tmax, dt)\n",
    "\n",
    "    def update_params(self, tmax: int, dt: float):\n",
    "        num = int(tmax//dt)\n",
    "        self.x = np.zeros((num, 2))\n",
    "        self.v = np.zeros((num, 2))\n",
    "        self.t = np.linspace(0, tmax, num=num)\n",
    "        self.dt = dt\n",
    "\n",
    "    def get_next_step(self, i: int):\n",
    "        last_x = self.x[i]\n",
    "        last_v = self.v[i]\n",
    "        new_x = last_x + last_v * self.dt\n",
    "        new_v = last_v + a(last_x) * self.dt\n",
    "        return new_x, new_v\n",
    "    \n",
    "    def set_new_values(self, x: np.ndarray, v: np.ndarray, i):\n",
    "        self.x[i] = x\n",
    "        self.v[i] = v\n",
    "\n",
    "    def calculate(self):\n",
    "        for i in range(len(self.t)):\n",
    "            if i == 0:\n",
    "                self.set_new_values(x0, v0, 0)\n",
    "                continue\n",
    "            x, y = self.get_next_step(i-1)\n",
    "            self.set_new_values(x, y, i)"
   ]
  },
  {
   "cell_type": "code",
   "execution_count": 38,
   "metadata": {},
   "outputs": [],
   "source": [
    "class RK4:\n",
    "    def __init__(self, tmax: int, dt: float):\n",
    "        self.r = None\n",
    "        self.v = None\n",
    "        self.t = None\n",
    "        self.dt = None\n",
    "        self.update_params(tmax, dt)\n",
    "\n",
    "    def update_params(self, tmax: int, dt: float):\n",
    "        num = int(tmax//dt)\n",
    "        self.r = np.zeros((num, 2))\n",
    "        self.v = np.zeros((num, 2))\n",
    "        \n",
    "        self.t = np.linspace(0, tmax, num=num)\n",
    "        self.dt = dt\n",
    "    \n",
    "    def k(self, i: int) -> np.ndarray:\n",
    "        output = np.zeros((4, 4))\n",
    "        output[0, 0] = self.v[i, 0]\n",
    "        output[0, 1] = self.v[i, 1]\n",
    "        new_a = a(self.r[i])\n",
    "        output[0, 2] = new_a[0]\n",
    "        output[0, 3] = new_a[1]\n",
    "\n",
    "        output[1, 0] = self.v[i, 0] + output[0, 2] * self.dt / 2\n",
    "        output[1, 1] = self.v[i, 1] + output[0, 3] * self.dt / 2\n",
    "        new_a = a(self.r[i] + output[0, :2] * self.dt / 2)\n",
    "        output[1, 2] = new_a[0]\n",
    "        output[1, 3] = new_a[1]\n",
    "\n",
    "        output[2, 0] = self.v[i, 0] + output[1, 2] * self.dt / 2\n",
    "        output[2, 1] = self.v[i, 1] + output[1, 3] * self.dt / 2\n",
    "        new_a = a(self.r[i] + output[1, :2] * self.dt / 2)\n",
    "        output[2, 2] = new_a[0]\n",
    "        output[2, 3] = new_a[1]\n",
    "\n",
    "        output[3, 0] = self.v[i, 0] + output[2, 2] * self.dt\n",
    "        output[3, 1] = self.v[i, 1] + output[2, 3] * self.dt\n",
    "        new_a = a(self.r[i] + output[2, :2] * self.dt)\n",
    "        output[3, 2] = new_a[0]\n",
    "        output[3, 3] = new_a[1]\n",
    "        return output\n",
    "    \n",
    "    def set_new_values(self, i):\n",
    "        k = self.k(i-1)\n",
    "        self.r[i] = self.r[i-1] + self.dt / 6 * (k[0, :2] + 2*k[1, :2] + 2*k[2, :2] + k[3, :2])\n",
    "        self.v[i] = self.v[i-1] + self.dt / 6 * (k[0, 2:] + 2*k[1, 2:] + 2*k[2, 2:] + k[3, 2:])\n",
    "\n",
    "    def calculate(self):\n",
    "        self.r[0] = x0\n",
    "        self.v[0] = v0\n",
    "        for i in range(1, len(self.t)):\n",
    "            self.set_new_values(i)\n",
    "\n",
    "    def speed(self):\n",
    "        output = np.zeros(len(self.t))\n",
    "        output = np.sqrt(self.v[:, 0]**2 + self.v[:, 1]**2)\n",
    "        return output\n",
    "\n"
   ]
  },
  {
   "cell_type": "code",
   "execution_count": 39,
   "metadata": {},
   "outputs": [],
   "source": [
    "s1 = RK4(5000000000, 2000)\n",
    "s1.calculate()"
   ]
  },
  {
   "cell_type": "code",
   "execution_count": 20,
   "metadata": {},
   "outputs": [
    {
     "data": {
      "text/plain": [
       "[<matplotlib.lines.Line2D at 0x7fc90dab39a0>]"
      ]
     },
     "execution_count": 20,
     "metadata": {},
     "output_type": "execute_result"
    },
    {
     "data": {
      "image/png": "[encoded data removed]",
      "text/plain": [
       "<Figure size 432x288 with 1 Axes>"
      ]
     },
     "metadata": {
      "needs_background": "light"
     },
     "output_type": "display_data"
    }
   ],
   "source": [
    "# a_arr = np.array([a(s.r[i]) for i in range(len(s.t))])\n",
    "plt.plot(s1.r[:, 0], s1.r[:, 1])\n"
   ]
  },
  {
   "cell_type": "code",
   "execution_count": 21,
   "metadata": {},
   "outputs": [
    {
     "ename": "NameError",
     "evalue": "name 's' is not defined",
     "output_type": "error",
     "traceback": [
      "\u001b[0;31m---------------------------------------------------------------------------\u001b[0m",
      "\u001b[0;31mNameError\u001b[0m                                 Traceback (most recent call last)",
      "\u001b[1;32m/home/hadron/Documents/University/semestr6/MOFiT/lab2/sheet.ipynb Cell 9'\u001b[0m in \u001b[0;36m<module>\u001b[0;34m\u001b[0m\n\u001b[0;32m----> <a href='vscode-notebook-cell:/home/hadron/Documents/University/semestr6/MOFiT/lab2/sheet.ipynb#ch0000008?line=0'>1</a>\u001b[0m s\u001b[39m.\u001b[39mv\n",
      "\u001b[0;31mNameError\u001b[0m: name 's' is not defined"
     ]
    }
   ],
   "source": [
    "s.v"
   ]
  },
  {
   "cell_type": "code",
   "execution_count": 22,
   "metadata": {},
   "outputs": [
    {
     "ename": "NameError",
     "evalue": "name 's' is not defined",
     "output_type": "error",
     "traceback": [
      "\u001b[0;31m---------------------------------------------------------------------------\u001b[0m",
      "\u001b[0;31mNameError\u001b[0m                                 Traceback (most recent call last)",
      "\u001b[1;32m/home/hadron/Documents/University/semestr6/MOFiT/lab2/sheet.ipynb Cell 10'\u001b[0m in \u001b[0;36m<module>\u001b[0;34m\u001b[0m\n\u001b[0;32m----> <a href='vscode-notebook-cell:/home/hadron/Documents/University/semestr6/MOFiT/lab2/sheet.ipynb#ch0000009?line=0'>1</a>\u001b[0m speed \u001b[39m=\u001b[39m s\u001b[39m.\u001b[39mspeed()\n\u001b[1;32m      <a href='vscode-notebook-cell:/home/hadron/Documents/University/semestr6/MOFiT/lab2/sheet.ipynb#ch0000009?line=1'>2</a>\u001b[0m plt\u001b[39m.\u001b[39mplot(s\u001b[39m.\u001b[39mt, speed)\n",
      "\u001b[0;31mNameError\u001b[0m: name 's' is not defined"
     ]
    }
   ],
   "source": [
    "speed = s.speed()\n",
    "plt.plot(s.t, speed)"
   ]
  },
  {
   "cell_type": "code",
   "execution_count": 23,
   "metadata": {},
   "outputs": [
    {
     "ename": "NameError",
     "evalue": "name 's' is not defined",
     "output_type": "error",
     "traceback": [
      "\u001b[0;31m---------------------------------------------------------------------------\u001b[0m",
      "\u001b[0;31mNameError\u001b[0m                                 Traceback (most recent call last)",
      "\u001b[1;32m/home/hadron/Documents/University/semestr6/MOFiT/lab2/sheet.ipynb Cell 11'\u001b[0m in \u001b[0;36m<module>\u001b[0;34m\u001b[0m\n\u001b[0;32m----> <a href='vscode-notebook-cell:/home/hadron/Documents/University/semestr6/MOFiT/lab2/sheet.ipynb#ch0000010?line=0'>1</a>\u001b[0m a_arr \u001b[39m=\u001b[39m np\u001b[39m.\u001b[39marray([a(s\u001b[39m.\u001b[39mr[i]) \u001b[39mfor\u001b[39;00m i \u001b[39min\u001b[39;00m \u001b[39mrange\u001b[39m(\u001b[39mlen\u001b[39m(s\u001b[39m.\u001b[39mt))])\n",
      "\u001b[0;31mNameError\u001b[0m: name 's' is not defined"
     ]
    }
   ],
   "source": [
    "a_arr = np.array([a(s.r[i]) for i in range(len(s.t))])"
   ]
  },
  {
   "cell_type": "code",
   "execution_count": 24,
   "metadata": {},
   "outputs": [
    {
     "ename": "NameError",
     "evalue": "name 's' is not defined",
     "output_type": "error",
     "traceback": [
      "\u001b[0;31m---------------------------------------------------------------------------\u001b[0m",
      "\u001b[0;31mNameError\u001b[0m                                 Traceback (most recent call last)",
      "\u001b[1;32m/home/hadron/Documents/University/semestr6/MOFiT/lab2/sheet.ipynb Cell 12'\u001b[0m in \u001b[0;36m<module>\u001b[0;34m\u001b[0m\n\u001b[0;32m----> <a href='vscode-notebook-cell:/home/hadron/Documents/University/semestr6/MOFiT/lab2/sheet.ipynb#ch0000011?line=0'>1</a>\u001b[0m plt\u001b[39m.\u001b[39mscatter(s\u001b[39m.\u001b[39mr[:, \u001b[39m0\u001b[39m], s\u001b[39m.\u001b[39mr[:, \u001b[39m1\u001b[39m])\n",
      "\u001b[0;31mNameError\u001b[0m: name 's' is not defined"
     ]
    }
   ],
   "source": [
    "plt.scatter(s.r[:, 0], s.r[:, 1])"
   ]
  },
  {
   "cell_type": "code",
   "execution_count": 25,
   "metadata": {},
   "outputs": [],
   "source": [
    "class Plotter:\n",
    "    def __init__(self, solver: Euler, dir: str):\n",
    "        self.solver = solver\n",
    "        self.dir = dir\n",
    "        if not os.path.exists(dir):\n",
    "            os.makedirs(dir)\n",
    "        \n",
    "\n",
    "    def plot(self, filename: str):\n",
    "        fig, [ax1, ax2] = plt.subplots(2, 1)\n",
    "        ax1.plot(self.solver.x[:, 0], self.solver.x[:, 1])\n",
    "        ax1.set_xlabel('x')\n",
    "        ax1.set_ylabel('y')\n",
    "        ax2.plot(self.solver.t, self.solver.x[:, 1])\n",
    "        ax2.set_xlabel('t')\n",
    "        ax2.set_ylabel('y')\n",
    "        fig.savefig(f\"{self.dir}/{filename}.png\")\n",
    "\n"
   ]
  },
  {
   "cell_type": "code",
   "execution_count": 35,
   "metadata": {},
   "outputs": [],
   "source": [
    "class Handler:\n",
    "    def __init__(self):\n",
    "        self.dir = \"output\"\n",
    "    \n",
    "    def euler_fixed_dt(self):\n",
    "        solver = Euler(5000000000, 2000)\n",
    "        solver.calculate()\n",
    "        plotter = Plotter(solver, self.dir)\n",
    "        plotter.plot(\"euler_fixed\")\n",
    "        return solver\n",
    "\n",
    "    def rk4_fixed_dt(self):\n",
    "        solver = RK4(5000000000, 2000)\n",
    "        solver.calculate()\n",
    "        plotter = Plotter(solver, self.dir)\n",
    "        plotter.plot(\"rk4_fixed\")\n",
    "        return solver"
   ]
  },
  {
   "cell_type": "code",
   "execution_count": 36,
   "metadata": {},
   "outputs": [
    {
     "data": {
      "image/png": "[encoded data removed]",
      "text/plain": [
       "<Figure size 432x288 with 2 Axes>"
      ]
     },
     "metadata": {
      "needs_background": "light"
     },
     "output_type": "display_data"
    }
   ],
   "source": [
    "h = Handler()\n",
    "s2 = h.euler_fixed_dt()"
   ]
  },
  {
   "cell_type": "code",
   "execution_count": 37,
   "metadata": {},
   "outputs": [
    {
     "data": {
      "text/plain": [
       "[<matplotlib.lines.Line2D at 0x7fc90dc14700>]"
      ]
     },
     "execution_count": 37,
     "metadata": {},
     "output_type": "execute_result"
    },
    {
     "data": {
      "image/png": "[encoded data removed]",
      "text/plain": [
       "<Figure size 432x288 with 1 Axes>"
      ]
     },
     "metadata": {
      "needs_background": "light"
     },
     "output_type": "display_data"
    }
   ],
   "source": [
    "plt.plot(s1.r[:, 0]/AU, s1.r[:, 1]/AU)\n",
    "plt.plot(s2.x[:, 0]/AU, s2.x[:, 1]/AU)"
   ]
  },
  {
   "cell_type": "code",
   "execution_count": 29,
   "metadata": {},
   "outputs": [
    {
     "ename": "NameError",
     "evalue": "name 's' is not defined",
     "output_type": "error",
     "traceback": [
      "\u001b[0;31m---------------------------------------------------------------------------\u001b[0m",
      "\u001b[0;31mNameError\u001b[0m                                 Traceback (most recent call last)",
      "\u001b[1;32m/home/hadron/Documents/University/semestr6/MOFiT/lab2/sheet.ipynb Cell 17'\u001b[0m in \u001b[0;36m<module>\u001b[0;34m\u001b[0m\n\u001b[0;32m----> <a href='vscode-notebook-cell:/home/hadron/Documents/University/semestr6/MOFiT/lab2/sheet.ipynb#ch0000016?line=0'>1</a>\u001b[0m plt\u001b[39m.\u001b[39mplot(s\u001b[39m.\u001b[39mt, s\u001b[39m.\u001b[39mv)\n",
      "\u001b[0;31mNameError\u001b[0m: name 's' is not defined"
     ]
    }
   ],
   "source": [
    "plt.plot(s.t, s.v)\n"
   ]
  },
  {
   "cell_type": "code",
   "execution_count": null,
   "metadata": {},
   "outputs": [],
   "source": []
  },
  {
   "cell_type": "code",
   "execution_count": null,
   "metadata": {},
   "outputs": [],
   "source": []
  },
  {
   "cell_type": "code",
   "execution_count": null,
   "metadata": {},
   "outputs": [],
   "source": []
  }
 ],
 "metadata": {
  "interpreter": {
   "hash": "916dbcbb3f70747c44a77c7bcd40155683ae19c65e1c03b4aa3499c5328201f1"
  },
  "kernelspec": {
   "display_name": "Python 3.9.4 64-bit",
   "name": "python3"
  },
  "language_info": {
   "codemirror_mode": {
    "name": "ipython",
    "version": 3
   },
   "file_extension": ".py",
   "mimetype": "text/x-python",
   "name": "python",
   "nbconvert_exporter": "python",
   "pygments_lexer": "ipython3",
   "version": "3.8.10"
  },
  "orig_nbformat": 4
 },
 "nbformat": 4,
 "nbformat_minor": 2
}
