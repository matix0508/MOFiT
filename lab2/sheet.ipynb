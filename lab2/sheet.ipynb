{
 "cells": [
  {
   "cell_type": "code",
   "execution_count": 255,
   "metadata": {},
   "outputs": [],
   "source": [
    "import numpy as np\n",
    "import matplotlib.pyplot as plt\n",
    "from typing import Union\n",
    "import os"
   ]
  },
  {
   "cell_type": "code",
   "execution_count": 256,
   "metadata": {},
   "outputs": [],
   "source": [
    "M = 1.989e30 #kg\n",
    "G = 6.6741e-11 # m^3/kg/s^2\n",
    "AU = 149597870700 #m\n",
    "BUFFOR = int(1e7)"
   ]
  },
  {
   "cell_type": "code",
   "execution_count": 257,
   "metadata": {},
   "outputs": [],
   "source": [
    "x0 = np.array([0, 0.586]) * AU # m\n",
    "v0 = np.array([54600, 0]) # m/s\n"
   ]
  },
  {
   "cell_type": "code",
   "execution_count": 266,
   "metadata": {},
   "outputs": [],
   "source": [
    "def error(x1: np.ndarray, x2: np.ndarray, n: int) -> float:\n",
    "    u = (x1 - x2) / (2**n-1)\n",
    "    output = u.max()\n",
    "    if output == 0:\n",
    "        return 1e-6\n",
    "    else:\n",
    "        return abs(output)"
   ]
  },
  {
   "cell_type": "code",
   "execution_count": 267,
   "metadata": {},
   "outputs": [],
   "source": [
    "def a(r: np.ndarray):\n",
    "    return -G * M * r / np.power(np.sqrt(r[0] ** 2 + r[1] ** 2), 3)\n",
    "    "
   ]
  },
  {
   "cell_type": "code",
   "execution_count": 268,
   "metadata": {},
   "outputs": [],
   "source": [
    "class Euler:\n",
    "    def __init__(self, tmax: int, dt: float, tol: float = None):\n",
    "        self.x = None\n",
    "        self.v = None\n",
    "        self.t = None\n",
    "        self.dt = None\n",
    "        self.tol = None\n",
    "        self.update_params(tmax, dt, tol)\n",
    "\n",
    "    def update_params(self, tmax: int, dt: float, tol: float):\n",
    "        self.tmax = tmax\n",
    "        self.x = np.zeros((BUFFOR, 2))\n",
    "        self.v = np.zeros((BUFFOR, 2))\n",
    "        self.t = np.zeros(BUFFOR)\n",
    "        self.tol = tol\n",
    "        self.dt = dt\n",
    "\n",
    "    def get_next_step(self, last_x, last_v, dt: float):\n",
    "        # print(last_x, last_v)\n",
    "        new_x = last_x + last_v * dt\n",
    "        new_v = last_v + a(last_x) * dt\n",
    "        return new_x, new_v\n",
    "    \n",
    "    def set_new_values(self, x: np.ndarray, v: np.ndarray, i):\n",
    "        self.x[i] = x\n",
    "        self.v[i] = v\n",
    "        self.t[i] = self.t[i-1] + self.dt\n",
    "\n",
    "    def calculate(self):\n",
    "        self.set_new_values(x0, v0, 0)\n",
    "        i = 1\n",
    "        while self.t[i-1] < self.tmax:\n",
    "            x, v = self.get_next_step(self.x[i-1], self.v[i-1], self.dt)\n",
    "            if self.tol is None:\n",
    "                self.set_new_values(x, v, i)\n",
    "                i+=1\n",
    "                continue\n",
    "            xp1, vp1 = self.get_next_step(self.x[i-1], self.v[i-1], self.dt/2)\n",
    "            xp2, vp2 = self.get_next_step(xp1, vp1, self.dt/2)\n",
    "            eps = error(xp2, x, 1)\n",
    "            self.dt = 0.9 * self.dt *(self.tol / eps)**(1/2)\n",
    "            while eps > self.tol:\n",
    "                x, v = self.get_next_step(self.x[i-1], self.v[i-1], self.dt/2)\n",
    "                xp1, vp1 = self.get_next_step(self.x[i-1], self.v[i-1], self.dt/2)\n",
    "                xp2, vp2 = self.get_next_step(xp1, vp1, self.dt/2)\n",
    "                eps = error(xp2, x, 1)\n",
    "                self.dt = 0.9 * self.dt*(self.tol / eps)**(1/2)\n",
    "            \n",
    "            self.set_new_values(xp2, vp2, i)\n",
    "            i+=1\n",
    "        self.x = self.x[:i]\n",
    "        self.v = self.v[:i]\n",
    "        self.t = self.t[:i]"
   ]
  },
  {
   "cell_type": "code",
   "execution_count": 269,
   "metadata": {},
   "outputs": [],
   "source": [
    "class RK4:\n",
    "    def __init__(self, tmax: int, dt: float, tol: float = None):\n",
    "        self.x = None\n",
    "        self.v = None\n",
    "        self.t = None\n",
    "        self.dt = None\n",
    "        self.tmax = None\n",
    "        self.update_params(tmax, dt, tol)\n",
    "\n",
    "    def update_params(self, tmax: int, dt: float, tol: float):\n",
    "        self.x = np.zeros((BUFFOR, 2))\n",
    "        self.v = np.zeros((BUFFOR, 2))\n",
    "        self.tmax = tmax\n",
    "        self.tol = tol\n",
    "        \n",
    "        self.t = np.zeros(BUFFOR)\n",
    "        self.dt = dt\n",
    "    \n",
    "    def k(self, last_x, last_v, dt: float) -> np.ndarray:\n",
    "        output = np.zeros((4, 4))\n",
    "        output[0, :2] = last_v\n",
    "        output[0, 2:] = a(last_x)\n",
    "\n",
    "        output[1, :2] = last_v + output[0, 2:] * dt / 2\n",
    "        output[1, 2:] = a(last_x + output[0, :2] * dt / 2)\n",
    "\n",
    "        output[2, :2] = last_v + output[1, 2:] * dt / 2\n",
    "        output[2, 2:] = a(last_x + output[1, :2] * dt / 2)\n",
    "\n",
    "        output[3, :2] = last_v + output[2, 2:] * dt\n",
    "        output[3, 2:] = a(last_x + output[2, :2] * dt)\n",
    "        return output\n",
    "    \n",
    "    def get_new_values(self, last_x: np.ndarray, last_v: np.ndarray, dt: float):\n",
    "        k = self.k(last_x, last_v, dt)\n",
    "        new_x = last_x + dt / 6 * (k[0, :2] + 2*k[1, :2] + 2*k[2, :2] + k[3, :2])\n",
    "        new_v = last_v + dt / 6 * (k[0, 2:] + 2*k[1, 2:] + 2*k[2, 2:] + k[3, 2:])\n",
    "        return new_x, new_v\n",
    "\n",
    "    def set_new_values(self, x, v, i):\n",
    "        self.x[i] = x\n",
    "        self.v[i] = v\n",
    "        self.t[i] = self.t[i-1] + self.dt\n",
    "        # print(self.t[i])\n",
    "\n",
    "    def calculate(self):\n",
    "        self.x[0] = x0\n",
    "        self.v[0] = v0\n",
    "        i = 1\n",
    "        while self.t[i-1] < self.tmax:\n",
    "            x, v = self.get_new_values(self.x[i-1], self.v[i-1], self.dt)\n",
    "            if self.tol is None:\n",
    "                self.set_new_values(x, v, i)\n",
    "                i+=1\n",
    "                continue\n",
    "            xp1, vp1 = self.get_new_values(self.x[i-1], self.v[i-1], self.dt/2)\n",
    "            xp2, vp2 = self.get_new_values(xp1, vp1, self.dt/2)\n",
    "            eps = error(xp2, x, 4)\n",
    "            self.dt = 0.9 * self.dt *(self.tol / eps)**(1/5)\n",
    "            while eps > self.tol:\n",
    "                x, v = self.get_new_values(self.x[i-1], self.v[i-1], self.dt/2)\n",
    "                xp1, vp1 = self.get_new_values(self.x[i-1], self.v[i-1], self.dt/2)\n",
    "                xp2, vp2 = self.get_new_values(xp1, vp1, self.dt/2)\n",
    "                eps = error(xp2, x, 4)\n",
    "                self.dt = 0.9 * self.dt*(self.tol / eps)**(1/5)\n",
    "            \n",
    "            self.set_new_values(xp2, vp2, i)\n",
    "            i+=1\n",
    "        self.x = self.x[:i]\n",
    "        self.v = self.v[:i]\n",
    "        self.t = self.t[:i]\n",
    "\n",
    "    def speed(self):\n",
    "        output = np.zeros(len(self.t))\n",
    "        output = np.sqrt(self.v[:, 0]**2 + self.v[:, 1]**2)\n",
    "        return output\n",
    "\n"
   ]
  },
  {
   "cell_type": "code",
   "execution_count": 270,
   "metadata": {},
   "outputs": [],
   "source": [
    "class Plotter:\n",
    "    def __init__(self, solver: Euler, dir: str):\n",
    "        self.solver = solver\n",
    "        self.dir = dir\n",
    "        if not os.path.exists(dir):\n",
    "            os.makedirs(dir)\n",
    "        \n",
    "\n",
    "    def plot(self, filename: str):\n",
    "        fig, [ax1, ax2] = plt.subplots(2, 1)\n",
    "        ax1.plot(self.solver.x[:, 0]/AU, self.solver.x[:, 1]/AU)\n",
    "        ax1.set_xlabel('x')\n",
    "        ax1.set_ylabel('y')\n",
    "        ax2.plot(np.linspace(0, self.solver.tmax, num=len(self.solver.x)), self.solver.x[:, 1]/AU)\n",
    "        ax2.set_xlabel('t')\n",
    "        ax2.set_ylabel('y')\n",
    "        fig.savefig(f\"{self.dir}/{filename}.png\")\n",
    "\n"
   ]
  },
  {
   "cell_type": "code",
   "execution_count": 278,
   "metadata": {},
   "outputs": [],
   "source": [
    "class Handler:\n",
    "    def __init__(self):\n",
    "        self.dir = \"output\"\n",
    "    \n",
    "    def euler_fixed_dt(self):\n",
    "        solver = Euler(10000000000, 2000)\n",
    "        solver.calculate()\n",
    "        plotter = Plotter(solver, self.dir)\n",
    "        plotter.plot(\"euler_fixed\")\n",
    "        return solver\n",
    "\n",
    "    def euler_changing_dt(self):\n",
    "        solver = Euler(10000000000, 100, 1000)\n",
    "        solver.calculate()\n",
    "        plotter = Plotter(solver, self.dir)\n",
    "        plotter.plot(\"euler_changing\")\n",
    "        return solver\n",
    "\n",
    "    def rk4_fixed_dt(self):\n",
    "        solver = RK4(10000000000, 2000)\n",
    "        solver.calculate()\n",
    "        plotter = Plotter(solver, self.dir)\n",
    "        plotter.plot(\"rk4_fixed\")\n",
    "        return solver\n",
    "    def rk4_changing_dt(self):\n",
    "        solver = RK4(10000000000, 20, 1000)\n",
    "        solver.calculate()\n",
    "        plotter = Plotter(solver, self.dir)\n",
    "        plotter.plot(\"rk4_changing\")\n",
    "        return solver"
   ]
  },
  {
   "cell_type": "code",
   "execution_count": 281,
   "metadata": {},
   "outputs": [
    {
     "data": {
      "image/png": "[encoded data removed]",
      "text/plain": [
       "<Figure size 432x288 with 2 Axes>"
      ]
     },
     "metadata": {
      "needs_background": "light"
     },
     "output_type": "display_data"
    }
   ],
   "source": [
    "h = Handler()\n",
    "s2 = h.euler_changing_dt()"
   ]
  },
  {
   "cell_type": "code",
   "execution_count": null,
   "metadata": {},
   "outputs": [
    {
     "data": {
      "text/plain": [
       "inf"
      ]
     },
     "execution_count": 265,
     "metadata": {},
     "output_type": "execute_result"
    }
   ],
   "source": [
    "s2.dt"
   ]
  },
  {
   "cell_type": "code",
   "execution_count": null,
   "metadata": {},
   "outputs": [],
   "source": []
  }
 ],
 "metadata": {
  "interpreter": {
   "hash": "916dbcbb3f70747c44a77c7bcd40155683ae19c65e1c03b4aa3499c5328201f1"
  },
  "kernelspec": {
   "display_name": "Python 3.9.4 64-bit",
   "name": "python3"
  },
  "language_info": {
   "codemirror_mode": {
    "name": "ipython",
    "version": 3
   },
   "file_extension": ".py",
   "mimetype": "text/x-python",
   "name": "python",
   "nbconvert_exporter": "python",
   "pygments_lexer": "ipython3",
   "version": "3.8.10"
  },
  "orig_nbformat": 4
 },
 "nbformat": 4,
 "nbformat_minor": 2
}
