{
 "cells": [
  {
   "cell_type": "code",
   "execution_count": 1,
   "metadata": {},
   "outputs": [],
   "source": [
    "import numpy as np\n",
    "import matplotlib.pyplot as plt\n",
    "from typing import Union"
   ]
  },
  {
   "cell_type": "code",
   "execution_count": 2,
   "metadata": {},
   "outputs": [],
   "source": [
    "M = 1.989e30 #kg\n",
    "G = 6.6741e-11 # m^3/kg/s^2\n",
    "AU = 149597870700 #m"
   ]
  },
  {
   "cell_type": "code",
   "execution_count": 3,
   "metadata": {},
   "outputs": [],
   "source": [
    "x0 = np.array([0, 0.586]) * AU # m\n",
    "v0 = np.array([54600, 0]) # m/s\n"
   ]
  },
  {
   "cell_type": "code",
   "execution_count": null,
   "metadata": {},
   "outputs": [],
   "source": []
  },
  {
   "cell_type": "code",
   "execution_count": 4,
   "metadata": {},
   "outputs": [],
   "source": [
    "def a(r: np.ndarray):\n",
    "    return -G * M * r / np.power(r.dot(r), 3/2)\n",
    "    "
   ]
  },
  {
   "cell_type": "code",
   "execution_count": 5,
   "metadata": {},
   "outputs": [],
   "source": [
    "class Solver:\n",
    "    def __init__(self, tmax: int, dt: float):\n",
    "        self.x = None\n",
    "        self.v = None\n",
    "        self.t = None\n",
    "        self.dt = None\n",
    "        self.update_params(tmax, dt)\n",
    "\n",
    "    def update_params(self, tmax: int, dt: float):\n",
    "        num = int(tmax//dt)\n",
    "        self.x = np.zeros((num, 2))\n",
    "        self.v = np.zeros((num, 2))\n",
    "        self.t = np.linspace(0, tmax, num=num)\n",
    "        self.dt = dt\n",
    "\n",
    "    def set_new_values(self, x: np.ndarray, v: np.ndarray, i):\n",
    "        self.x[i] = x\n",
    "        self.v[i] = v\n",
    "\n",
    "    def get_new_values(self, i: int):\n",
    "        return self.x[i], self.v[i]\n",
    "\n",
    "    def calculate(self):\n",
    "        for i in range(len(self.t)):\n",
    "            if i == 0:\n",
    "                self.set_new_values(x0, v0, 0)\n",
    "                continue\n",
    "            x, y = self.get_next_step(i-1)\n",
    "            self.set_new_values(x, y, i)"
   ]
  },
  {
   "cell_type": "code",
   "execution_count": 6,
   "metadata": {},
   "outputs": [],
   "source": [
    "class Euler(Solver):\n",
    "    def __init__(self, tmax: int, dt: float):\n",
    "        super().__init__(tmax, dt)\n",
    "\n",
    "    def get_next_step(self, i: int):\n",
    "        last_x = self.x[i]\n",
    "        last_v = self.v[i]\n",
    "        new_x = last_x + last_v * self.dt\n",
    "        new_y = last_v + a(last_x) * self.dt\n",
    "        return new_x, new_y"
   ]
  },
  {
   "cell_type": "code",
   "execution_count": 7,
   "metadata": {},
   "outputs": [],
   "source": [
    "class Plotter:\n",
    "    def __init__(self, solver: Euler, dir: str):\n",
    "        self.solver = solver\n",
    "        self.dir = dir\n",
    "\n",
    "    def plot(self, filename: str = \"funcT\"):\n",
    "        plt.plot(self.solver.x[0], self.solver.x[1])\n",
    "        plt.show()\n",
    "\n"
   ]
  },
  {
   "cell_type": "code",
   "execution_count": 8,
   "metadata": {},
   "outputs": [],
   "source": [
    "solv = Euler(10000000000, 2000)\n",
    "solv.calculate()"
   ]
  },
  {
   "cell_type": "code",
   "execution_count": 9,
   "metadata": {},
   "outputs": [
    {
     "data": {
      "text/plain": [
       "[<matplotlib.lines.Line2D at 0x7f4e6def8e50>]"
      ]
     },
     "execution_count": 9,
     "metadata": {},
     "output_type": "execute_result"
    },
    {
     "data": {
      "image/png": "[encoded data removed]",
      "text/plain": [
       "<Figure size 432x288 with 1 Axes>"
      ]
     },
     "metadata": {
      "needs_background": "light"
     },
     "output_type": "display_data"
    }
   ],
   "source": [
    "plt.plot(solv.x[:,0]/AU, solv.x[:,1]/AU)"
   ]
  },
  {
   "cell_type": "code",
   "execution_count": null,
   "metadata": {},
   "outputs": [],
   "source": []
  },
  {
   "cell_type": "code",
   "execution_count": null,
   "metadata": {},
   "outputs": [],
   "source": []
  }
 ],
 "metadata": {
  "interpreter": {
   "hash": "916dbcbb3f70747c44a77c7bcd40155683ae19c65e1c03b4aa3499c5328201f1"
  },
  "kernelspec": {
   "display_name": "Python 3.9.4 64-bit",
   "name": "python3"
  },
  "language_info": {
   "codemirror_mode": {
    "name": "ipython",
    "version": 3
   },
   "file_extension": ".py",
   "mimetype": "text/x-python",
   "name": "python",
   "nbconvert_exporter": "python",
   "pygments_lexer": "ipython3",
   "version": "3.8.10"
  },
  "orig_nbformat": 4
 },
 "nbformat": 4,
 "nbformat_minor": 2
}
