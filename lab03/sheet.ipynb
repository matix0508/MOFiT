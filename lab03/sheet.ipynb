{
 "cells": [
  {
   "cell_type": "code",
   "execution_count": 26,
   "metadata": {},
   "outputs": [],
   "source": [
    "import matplotlib.pyplot as plt\n",
    "import numpy as np\n",
    "from matplotlib.animation import FuncAnimation \n"
   ]
  },
  {
   "cell_type": "code",
   "execution_count": 27,
   "metadata": {},
   "outputs": [],
   "source": [
    "DT = 0.005\n",
    "DX = 0.01\n",
    "N = 101"
   ]
  },
  {
   "cell_type": "code",
   "execution_count": 28,
   "metadata": {},
   "outputs": [],
   "source": [
    "def func(x: float) -> float:\n",
    "    return np.exp(-100 * (x-0.5)**2)"
   ]
  },
  {
   "cell_type": "code",
   "execution_count": 29,
   "metadata": {},
   "outputs": [],
   "source": [
    "class String:\n",
    "    def __init__(self, tmax: int):\n",
    "        self.positions = np.zeros((int(tmax//DT), N))\n",
    "        self.velocities = np.zeros((int(tmax//DT), N))\n",
    "        self.t = np.linspace(0, tmax, int(tmax//DT))\n",
    "\n",
    "    def get_next_a(self, t: int, i: int):\n",
    "        right = self.positions[t, i+1]\n",
    "        left = self.positions[t, i-1]\n",
    "        middle = self.positions[t, i]\n",
    "        return (right + left - 2 * middle) / (DX**2)\n",
    "\n",
    "    def get_next_v(self, t: int, i: int):\n",
    "        # print(type(t), type(i))\n",
    "        return self.velocities[t, i] + DT / 2 * (self.get_next_a(t+1, i)+self.get_next_a(t, i))\n",
    "\n",
    "    def get_next_position(self, t: int, i: int):\n",
    "        return self.positions[t, i] + DT * self.velocities[t, i]+DT**2/2*(self.get_next_a(t, i))\n",
    "\n",
    "    def setup(self):\n",
    "        self.positions[0, 0] = 0\n",
    "        self.positions[0, N-1] = 0\n",
    "        for point in range(1, N-1):\n",
    "            self.positions[0, point] = func(point*DX)\n",
    "\n",
    "    def calculate(self):\n",
    "        self.setup()\n",
    "        for t in range(len(self.t)-1):\n",
    "            for point in range(1, N-1):\n",
    "                self.velocities[t, point] = self.get_next_v(t, point)\n",
    "                self.positions[t, point] = self.get_next_position(t, point)\n",
    "\n",
    "    def plot(self):\n",
    "        plt.plot(self.positions[5, :])\n",
    "\n",
    "\n",
    "\n",
    "\n",
    "    \n"
   ]
  },
  {
   "cell_type": "code",
   "execution_count": 30,
   "metadata": {},
   "outputs": [],
   "source": [
    "s = String(100)\n",
    "s.calculate()"
   ]
  },
  {
   "cell_type": "code",
   "execution_count": 31,
   "metadata": {},
   "outputs": [
    {
     "data": {
      "image/png": "[encoded data removed]",
      "text/plain": [
       "<Figure size 432x288 with 1 Axes>"
      ]
     },
     "metadata": {
      "needs_background": "light"
     },
     "output_type": "display_data"
    }
   ],
   "source": [
    "s.plot()"
   ]
  },
  {
   "cell_type": "code",
   "execution_count": 35,
   "metadata": {},
   "outputs": [
    {
     "name": "stderr",
     "output_type": "stream",
     "text": [
      "MovieWriter ffmpeg unavailable; using Pillow instead.\n"
     ]
    }
   ],
   "source": [
    "fig = plt.figure()\n",
    "axis = plt.axes()\n",
    "line, = axis.plot([], [], lw=3)\n",
    "def init():\n",
    "    line.set_data(range(N), s.positions[0, :])\n",
    "    return line,\n",
    "\n",
    "def animate(i):\n",
    "    line.set_data(range(N), s.positions[i, :])\n",
    "    return line,\n",
    "\n",
    "anim = FuncAnimation(fig, animate, init_func=init, frames=len(s.t), interval=20, blit=True)\n",
    "anim.save(\"wave.mp4\", writer=\"ffmpeg\", fps=300)"
   ]
  },
  {
   "cell_type": "code",
   "execution_count": null,
   "metadata": {},
   "outputs": [],
   "source": []
  },
  {
   "cell_type": "code",
   "execution_count": null,
   "metadata": {},
   "outputs": [],
   "source": []
  }
 ],
 "metadata": {
  "interpreter": {
   "hash": "e7370f93d1d0cde622a1f8e1c04877d8463912d04d973331ad4851f04de6915a"
  },
  "kernelspec": {
   "display_name": "Python 3.8.10 64-bit",
   "language": "python",
   "name": "python3"
  },
  "language_info": {
   "codemirror_mode": {
    "name": "ipython",
    "version": 3
   },
   "file_extension": ".py",
   "mimetype": "text/x-python",
   "name": "python",
   "nbconvert_exporter": "python",
   "pygments_lexer": "ipython3",
   "version": "3.8.10"
  },
  "orig_nbformat": 4
 },
 "nbformat": 4,
 "nbformat_minor": 2
}
